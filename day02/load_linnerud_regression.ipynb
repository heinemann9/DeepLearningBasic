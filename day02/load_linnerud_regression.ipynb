{
 "cells": [
  {
   "cell_type": "markdown",
   "metadata": {
    "id": "2NuKGDLh7NdM"
   },
   "source": [
    "# Linear Models - Regression"
   ]
  },
  {
   "cell_type": "markdown",
   "metadata": {
    "id": "mlx0yniA7NdZ"
   },
   "source": [
    "##  [Ordinary Least Squares](https://scikit-learn.org/stable/modules/linear_model.html#ordinary-least-squares)"
   ]
  },
  {
   "cell_type": "code",
   "execution_count": 1,
   "metadata": {
    "executionInfo": {
     "elapsed": 1631,
     "status": "ok",
     "timestamp": 1614386377647,
     "user": {
      "displayName": "노규남",
      "photoUrl": "",
      "userId": "18354138419357331039"
     },
     "user_tz": -540
    },
    "id": "lI7J-4WK7Nda"
   },
   "outputs": [],
   "source": [
    "from sklearn import linear_model\n",
    "from sklearn import datasets\n",
    "import pandas as pd\n",
    "import seaborn as sns\n",
    "import numpy as np\n",
    "from matplotlib import pyplot as plt\n",
    "%matplotlib inline"
   ]
  },
  {
   "cell_type": "code",
   "execution_count": 2,
   "metadata": {
    "executionInfo": {
     "elapsed": 649,
     "status": "ok",
     "timestamp": 1614386379479,
     "user": {
      "displayName": "노규남",
      "photoUrl": "",
      "userId": "18354138419357331039"
     },
     "user_tz": -540
    },
    "id": "Urm5Brrk7Ndb"
   },
   "outputs": [],
   "source": [
    "data = datasets.load_linnerud()"
   ]
  },
  {
   "cell_type": "code",
   "execution_count": 3,
   "metadata": {
    "colab": {
     "base_uri": "https://localhost:8080/"
    },
    "executionInfo": {
     "elapsed": 853,
     "status": "ok",
     "timestamp": 1614386382258,
     "user": {
      "displayName": "노규남",
      "photoUrl": "",
      "userId": "18354138419357331039"
     },
     "user_tz": -540
    },
    "id": "p4dAZaFH7Ndc",
    "outputId": "cb3b5075-4ef0-4c97-8c56-f7c960a92d3f",
    "scrolled": true
   },
   "outputs": [
    {
     "name": "stdout",
     "output_type": "stream",
     "text": [
      "<class 'sklearn.utils.Bunch'>\n",
      "dict_keys(['target', 'DESCR', 'data_filename', 'data', 'feature_names', 'target_names', 'target_filename'])\n"
     ]
    }
   ],
   "source": [
    "print(type(data))\n",
    "print(data.keys())"
   ]
  },
  {
   "cell_type": "code",
   "execution_count": 4,
   "metadata": {
    "colab": {
     "base_uri": "https://localhost:8080/"
    },
    "executionInfo": {
     "elapsed": 601,
     "status": "ok",
     "timestamp": 1614386386066,
     "user": {
      "displayName": "노규남",
      "photoUrl": "",
      "userId": "18354138419357331039"
     },
     "user_tz": -540
    },
    "id": "fSykTSWu7Ndd",
    "outputId": "91215d00-5055-48e5-8bbf-7cb49d0c3a3a",
    "scrolled": true
   },
   "outputs": [
    {
     "name": "stdout",
     "output_type": "stream",
     "text": [
      "<class 'numpy.ndarray'>\n",
      "<class 'str'>\n",
      "<class 'str'>\n",
      "<class 'numpy.ndarray'>\n",
      "<class 'list'>\n",
      "<class 'list'>\n",
      "<class 'str'>\n"
     ]
    }
   ],
   "source": [
    "print(type(data.target))\n",
    "print(type(data.DESCR))\n",
    "print(type(data.data_filename))\n",
    "print(type(data.data))\n",
    "print(type(data.feature_names))\n",
    "print(type(data.target_names))\n",
    "print(type(data.target_filename))"
   ]
  },
  {
   "cell_type": "code",
   "execution_count": 5,
   "metadata": {
    "colab": {
     "base_uri": "https://localhost:8080/"
    },
    "executionInfo": {
     "elapsed": 762,
     "status": "ok",
     "timestamp": 1614386390377,
     "user": {
      "displayName": "노규남",
      "photoUrl": "",
      "userId": "18354138419357331039"
     },
     "user_tz": -540
    },
    "id": "SopMoT447Nde",
    "outputId": "7bef8b10-57b6-4607-cf7c-a5afe3a8e9eb",
    "scrolled": true
   },
   "outputs": [
    {
     "name": "stdout",
     "output_type": "stream",
     "text": [
      "[[191.  36.  50.]\n",
      " [189.  37.  52.]\n",
      " [193.  38.  58.]\n",
      " [162.  35.  62.]\n",
      " [189.  35.  46.]\n",
      " [182.  36.  56.]\n",
      " [211.  38.  56.]\n",
      " [167.  34.  60.]\n",
      " [176.  31.  74.]\n",
      " [154.  33.  56.]\n",
      " [169.  34.  50.]\n",
      " [166.  33.  52.]\n",
      " [154.  34.  64.]\n",
      " [247.  46.  50.]\n",
      " [193.  36.  46.]\n",
      " [202.  37.  62.]\n",
      " [176.  37.  54.]\n",
      " [157.  32.  52.]\n",
      " [156.  33.  54.]\n",
      " [138.  33.  68.]]\n",
      ".. _linnerrud_dataset:\n",
      "\n",
      "Linnerrud dataset\n",
      "-----------------\n",
      "\n",
      "**Data Set Characteristics:**\n",
      "\n",
      "    :Number of Instances: 20\n",
      "    :Number of Attributes: 3\n",
      "    :Missing Attribute Values: None\n",
      "\n",
      "The Linnerud dataset constains two small dataset:\n",
      "\n",
      "- *physiological* - CSV containing 20 observations on 3 exercise variables:\n",
      "   Weight, Waist and Pulse.\n",
      "\n",
      "- *exercise* - CSV containing 20 observations on 3 physiological variables:\n",
      "   Chins, Situps and Jumps.\n",
      "\n",
      ".. topic:: References\n",
      "\n",
      "  * Tenenhaus, M. (1998). La regression PLS: theorie et pratique. Paris: Editions Technic.\n",
      "\n",
      "/usr/local/lib/python3.5/dist-packages/sklearn/datasets/data/linnerud_exercise.csv\n",
      "[[  5. 162.  60.]\n",
      " [  2. 110.  60.]\n",
      " [ 12. 101. 101.]\n",
      " [ 12. 105.  37.]\n",
      " [ 13. 155.  58.]\n",
      " [  4. 101.  42.]\n",
      " [  8. 101.  38.]\n",
      " [  6. 125.  40.]\n",
      " [ 15. 200.  40.]\n",
      " [ 17. 251. 250.]\n",
      " [ 17. 120.  38.]\n",
      " [ 13. 210. 115.]\n",
      " [ 14. 215. 105.]\n",
      " [  1.  50.  50.]\n",
      " [  6.  70.  31.]\n",
      " [ 12. 210. 120.]\n",
      " [  4.  60.  25.]\n",
      " [ 11. 230.  80.]\n",
      " [ 15. 225.  73.]\n",
      " [  2. 110.  43.]]\n",
      "['Chins', 'Situps', 'Jumps']\n",
      "['Weight', 'Waist', 'Pulse']\n",
      "/usr/local/lib/python3.5/dist-packages/sklearn/datasets/data/linnerud_physiological.csv\n"
     ]
    }
   ],
   "source": [
    "print(data.target)\n",
    "print(data.DESCR)\n",
    "print(data.data_filename)\n",
    "print(data.data)\n",
    "print(data.feature_names)\n",
    "print(data.target_names)\n",
    "print(data.target_filename)"
   ]
  },
  {
   "cell_type": "code",
   "execution_count": 127,
   "metadata": {
    "executionInfo": {
     "elapsed": 654,
     "status": "ok",
     "timestamp": 1614386395044,
     "user": {
      "displayName": "노규남",
      "photoUrl": "",
      "userId": "18354138419357331039"
     },
     "user_tz": -540
    },
    "id": "uUGB5KTD7Ndf"
   },
   "outputs": [],
   "source": [
    "df = pd.DataFrame(data.data, columns=data.feature_names)\n",
    "df['target'] = data.target[:, 0]\n",
    "#df['target0'] = data.target[:, 0]\n",
    "#df['target1'] = data.target[:, 1]\n",
    "#df['target2'] = data.target[:, 2]"
   ]
  },
  {
   "cell_type": "code",
   "execution_count": 128,
   "metadata": {
    "colab": {
     "base_uri": "https://localhost:8080/",
     "height": 203
    },
    "executionInfo": {
     "elapsed": 623,
     "status": "ok",
     "timestamp": 1614386396682,
     "user": {
      "displayName": "노규남",
      "photoUrl": "",
      "userId": "18354138419357331039"
     },
     "user_tz": -540
    },
    "id": "kbeQVA-b7Ndf",
    "outputId": "80721b31-594e-473e-a3b2-c4853b5d2f09"
   },
   "outputs": [
    {
     "data": {
      "text/html": [
       "<div>\n",
       "<style scoped>\n",
       "    .dataframe tbody tr th:only-of-type {\n",
       "        vertical-align: middle;\n",
       "    }\n",
       "\n",
       "    .dataframe tbody tr th {\n",
       "        vertical-align: top;\n",
       "    }\n",
       "\n",
       "    .dataframe thead th {\n",
       "        text-align: right;\n",
       "    }\n",
       "</style>\n",
       "<table border=\"1\" class=\"dataframe\">\n",
       "  <thead>\n",
       "    <tr style=\"text-align: right;\">\n",
       "      <th></th>\n",
       "      <th>Chins</th>\n",
       "      <th>Situps</th>\n",
       "      <th>Jumps</th>\n",
       "      <th>target0</th>\n",
       "      <th>target1</th>\n",
       "      <th>target2</th>\n",
       "    </tr>\n",
       "  </thead>\n",
       "  <tbody>\n",
       "    <tr>\n",
       "      <th>0</th>\n",
       "      <td>5.0</td>\n",
       "      <td>162.0</td>\n",
       "      <td>60.0</td>\n",
       "      <td>191.0</td>\n",
       "      <td>36.0</td>\n",
       "      <td>50.0</td>\n",
       "    </tr>\n",
       "    <tr>\n",
       "      <th>1</th>\n",
       "      <td>2.0</td>\n",
       "      <td>110.0</td>\n",
       "      <td>60.0</td>\n",
       "      <td>189.0</td>\n",
       "      <td>37.0</td>\n",
       "      <td>52.0</td>\n",
       "    </tr>\n",
       "    <tr>\n",
       "      <th>2</th>\n",
       "      <td>12.0</td>\n",
       "      <td>101.0</td>\n",
       "      <td>101.0</td>\n",
       "      <td>193.0</td>\n",
       "      <td>38.0</td>\n",
       "      <td>58.0</td>\n",
       "    </tr>\n",
       "    <tr>\n",
       "      <th>3</th>\n",
       "      <td>12.0</td>\n",
       "      <td>105.0</td>\n",
       "      <td>37.0</td>\n",
       "      <td>162.0</td>\n",
       "      <td>35.0</td>\n",
       "      <td>62.0</td>\n",
       "    </tr>\n",
       "    <tr>\n",
       "      <th>4</th>\n",
       "      <td>13.0</td>\n",
       "      <td>155.0</td>\n",
       "      <td>58.0</td>\n",
       "      <td>189.0</td>\n",
       "      <td>35.0</td>\n",
       "      <td>46.0</td>\n",
       "    </tr>\n",
       "  </tbody>\n",
       "</table>\n",
       "</div>"
      ],
      "text/plain": [
       "   Chins  Situps  Jumps  target0  target1  target2\n",
       "0    5.0   162.0   60.0    191.0     36.0     50.0\n",
       "1    2.0   110.0   60.0    189.0     37.0     52.0\n",
       "2   12.0   101.0  101.0    193.0     38.0     58.0\n",
       "3   12.0   105.0   37.0    162.0     35.0     62.0\n",
       "4   13.0   155.0   58.0    189.0     35.0     46.0"
      ]
     },
     "execution_count": 128,
     "metadata": {},
     "output_type": "execute_result"
    }
   ],
   "source": [
    "df.head()"
   ]
  },
  {
   "cell_type": "code",
   "execution_count": 129,
   "metadata": {
    "colab": {
     "base_uri": "https://localhost:8080/",
     "height": 203
    },
    "executionInfo": {
     "elapsed": 648,
     "status": "ok",
     "timestamp": 1614386399107,
     "user": {
      "displayName": "노규남",
      "photoUrl": "",
      "userId": "18354138419357331039"
     },
     "user_tz": -540
    },
    "id": "lSYywvmn7Ndg",
    "outputId": "cab0443b-9a7c-4cea-c05f-5f20ebda95d8"
   },
   "outputs": [
    {
     "data": {
      "text/html": [
       "<div>\n",
       "<style scoped>\n",
       "    .dataframe tbody tr th:only-of-type {\n",
       "        vertical-align: middle;\n",
       "    }\n",
       "\n",
       "    .dataframe tbody tr th {\n",
       "        vertical-align: top;\n",
       "    }\n",
       "\n",
       "    .dataframe thead th {\n",
       "        text-align: right;\n",
       "    }\n",
       "</style>\n",
       "<table border=\"1\" class=\"dataframe\">\n",
       "  <thead>\n",
       "    <tr style=\"text-align: right;\">\n",
       "      <th></th>\n",
       "      <th>Chins</th>\n",
       "      <th>Situps</th>\n",
       "      <th>Jumps</th>\n",
       "      <th>target0</th>\n",
       "      <th>target1</th>\n",
       "      <th>target2</th>\n",
       "    </tr>\n",
       "  </thead>\n",
       "  <tbody>\n",
       "    <tr>\n",
       "      <th>15</th>\n",
       "      <td>12.0</td>\n",
       "      <td>210.0</td>\n",
       "      <td>120.0</td>\n",
       "      <td>202.0</td>\n",
       "      <td>37.0</td>\n",
       "      <td>62.0</td>\n",
       "    </tr>\n",
       "    <tr>\n",
       "      <th>16</th>\n",
       "      <td>4.0</td>\n",
       "      <td>60.0</td>\n",
       "      <td>25.0</td>\n",
       "      <td>176.0</td>\n",
       "      <td>37.0</td>\n",
       "      <td>54.0</td>\n",
       "    </tr>\n",
       "    <tr>\n",
       "      <th>17</th>\n",
       "      <td>11.0</td>\n",
       "      <td>230.0</td>\n",
       "      <td>80.0</td>\n",
       "      <td>157.0</td>\n",
       "      <td>32.0</td>\n",
       "      <td>52.0</td>\n",
       "    </tr>\n",
       "    <tr>\n",
       "      <th>18</th>\n",
       "      <td>15.0</td>\n",
       "      <td>225.0</td>\n",
       "      <td>73.0</td>\n",
       "      <td>156.0</td>\n",
       "      <td>33.0</td>\n",
       "      <td>54.0</td>\n",
       "    </tr>\n",
       "    <tr>\n",
       "      <th>19</th>\n",
       "      <td>2.0</td>\n",
       "      <td>110.0</td>\n",
       "      <td>43.0</td>\n",
       "      <td>138.0</td>\n",
       "      <td>33.0</td>\n",
       "      <td>68.0</td>\n",
       "    </tr>\n",
       "  </tbody>\n",
       "</table>\n",
       "</div>"
      ],
      "text/plain": [
       "    Chins  Situps  Jumps  target0  target1  target2\n",
       "15   12.0   210.0  120.0    202.0     37.0     62.0\n",
       "16    4.0    60.0   25.0    176.0     37.0     54.0\n",
       "17   11.0   230.0   80.0    157.0     32.0     52.0\n",
       "18   15.0   225.0   73.0    156.0     33.0     54.0\n",
       "19    2.0   110.0   43.0    138.0     33.0     68.0"
      ]
     },
     "execution_count": 129,
     "metadata": {},
     "output_type": "execute_result"
    }
   ],
   "source": [
    "df.tail()"
   ]
  },
  {
   "cell_type": "code",
   "execution_count": 130,
   "metadata": {
    "colab": {
     "base_uri": "https://localhost:8080/",
     "height": 384
    },
    "executionInfo": {
     "elapsed": 610,
     "status": "ok",
     "timestamp": 1614386401199,
     "user": {
      "displayName": "노규남",
      "photoUrl": "",
      "userId": "18354138419357331039"
     },
     "user_tz": -540
    },
    "id": "b4OrIyNX7Ndh",
    "outputId": "9d53f7da-18f9-419f-bb45-e22195706fe1"
   },
   "outputs": [
    {
     "data": {
      "text/html": [
       "<div>\n",
       "<style scoped>\n",
       "    .dataframe tbody tr th:only-of-type {\n",
       "        vertical-align: middle;\n",
       "    }\n",
       "\n",
       "    .dataframe tbody tr th {\n",
       "        vertical-align: top;\n",
       "    }\n",
       "\n",
       "    .dataframe thead th {\n",
       "        text-align: right;\n",
       "    }\n",
       "</style>\n",
       "<table border=\"1\" class=\"dataframe\">\n",
       "  <thead>\n",
       "    <tr style=\"text-align: right;\">\n",
       "      <th></th>\n",
       "      <th>Chins</th>\n",
       "      <th>Situps</th>\n",
       "      <th>Jumps</th>\n",
       "      <th>target0</th>\n",
       "      <th>target1</th>\n",
       "      <th>target2</th>\n",
       "    </tr>\n",
       "  </thead>\n",
       "  <tbody>\n",
       "    <tr>\n",
       "      <th>count</th>\n",
       "      <td>20.000000</td>\n",
       "      <td>20.000000</td>\n",
       "      <td>20.00000</td>\n",
       "      <td>20.000000</td>\n",
       "      <td>20.000000</td>\n",
       "      <td>20.000000</td>\n",
       "    </tr>\n",
       "    <tr>\n",
       "      <th>mean</th>\n",
       "      <td>9.450000</td>\n",
       "      <td>145.550000</td>\n",
       "      <td>70.30000</td>\n",
       "      <td>178.600000</td>\n",
       "      <td>35.400000</td>\n",
       "      <td>56.100000</td>\n",
       "    </tr>\n",
       "    <tr>\n",
       "      <th>std</th>\n",
       "      <td>5.286278</td>\n",
       "      <td>62.566575</td>\n",
       "      <td>51.27747</td>\n",
       "      <td>24.690505</td>\n",
       "      <td>3.201973</td>\n",
       "      <td>7.210373</td>\n",
       "    </tr>\n",
       "    <tr>\n",
       "      <th>min</th>\n",
       "      <td>1.000000</td>\n",
       "      <td>50.000000</td>\n",
       "      <td>25.00000</td>\n",
       "      <td>138.000000</td>\n",
       "      <td>31.000000</td>\n",
       "      <td>46.000000</td>\n",
       "    </tr>\n",
       "    <tr>\n",
       "      <th>25%</th>\n",
       "      <td>4.750000</td>\n",
       "      <td>101.000000</td>\n",
       "      <td>39.50000</td>\n",
       "      <td>160.750000</td>\n",
       "      <td>33.000000</td>\n",
       "      <td>51.500000</td>\n",
       "    </tr>\n",
       "    <tr>\n",
       "      <th>50%</th>\n",
       "      <td>11.500000</td>\n",
       "      <td>122.500000</td>\n",
       "      <td>54.00000</td>\n",
       "      <td>176.000000</td>\n",
       "      <td>35.000000</td>\n",
       "      <td>55.000000</td>\n",
       "    </tr>\n",
       "    <tr>\n",
       "      <th>75%</th>\n",
       "      <td>13.250000</td>\n",
       "      <td>210.000000</td>\n",
       "      <td>85.25000</td>\n",
       "      <td>191.500000</td>\n",
       "      <td>37.000000</td>\n",
       "      <td>60.500000</td>\n",
       "    </tr>\n",
       "    <tr>\n",
       "      <th>max</th>\n",
       "      <td>17.000000</td>\n",
       "      <td>251.000000</td>\n",
       "      <td>250.00000</td>\n",
       "      <td>247.000000</td>\n",
       "      <td>46.000000</td>\n",
       "      <td>74.000000</td>\n",
       "    </tr>\n",
       "  </tbody>\n",
       "</table>\n",
       "</div>"
      ],
      "text/plain": [
       "           Chins      Situps      Jumps     target0    target1    target2\n",
       "count  20.000000   20.000000   20.00000   20.000000  20.000000  20.000000\n",
       "mean    9.450000  145.550000   70.30000  178.600000  35.400000  56.100000\n",
       "std     5.286278   62.566575   51.27747   24.690505   3.201973   7.210373\n",
       "min     1.000000   50.000000   25.00000  138.000000  31.000000  46.000000\n",
       "25%     4.750000  101.000000   39.50000  160.750000  33.000000  51.500000\n",
       "50%    11.500000  122.500000   54.00000  176.000000  35.000000  55.000000\n",
       "75%    13.250000  210.000000   85.25000  191.500000  37.000000  60.500000\n",
       "max    17.000000  251.000000  250.00000  247.000000  46.000000  74.000000"
      ]
     },
     "execution_count": 130,
     "metadata": {},
     "output_type": "execute_result"
    }
   ],
   "source": [
    "df.describe()"
   ]
  },
  {
   "cell_type": "code",
   "execution_count": 131,
   "metadata": {
    "colab": {
     "base_uri": "https://localhost:8080/"
    },
    "executionInfo": {
     "elapsed": 727,
     "status": "ok",
     "timestamp": 1614386403820,
     "user": {
      "displayName": "노규남",
      "photoUrl": "",
      "userId": "18354138419357331039"
     },
     "user_tz": -540
    },
    "id": "RqHDpNAs7Ndh",
    "outputId": "20164654-9cab-43fb-a301-7283f6ae72c1"
   },
   "outputs": [
    {
     "name": "stdout",
     "output_type": "stream",
     "text": [
      "<class 'pandas.core.frame.DataFrame'>\n",
      "RangeIndex: 20 entries, 0 to 19\n",
      "Data columns (total 6 columns):\n",
      "Chins      20 non-null float64\n",
      "Situps     20 non-null float64\n",
      "Jumps      20 non-null float64\n",
      "target0    20 non-null float64\n",
      "target1    20 non-null float64\n",
      "target2    20 non-null float64\n",
      "dtypes: float64(6)\n",
      "memory usage: 1.0 KB\n"
     ]
    }
   ],
   "source": [
    "df.info()"
   ]
  },
  {
   "cell_type": "code",
   "execution_count": 132,
   "metadata": {
    "colab": {
     "base_uri": "https://localhost:8080/"
    },
    "executionInfo": {
     "elapsed": 576,
     "status": "ok",
     "timestamp": 1614386408125,
     "user": {
      "displayName": "노규남",
      "photoUrl": "",
      "userId": "18354138419357331039"
     },
     "user_tz": -540
    },
    "id": "pmREhL4q7Ndi",
    "outputId": "c29a37b0-2bed-4ee1-b9f0-3fb7141b9ff5"
   },
   "outputs": [
    {
     "name": "stdout",
     "output_type": "stream",
     "text": [
      "Chins      0\n",
      "Situps     0\n",
      "Jumps      0\n",
      "target0    0\n",
      "target1    0\n",
      "target2    0\n",
      "dtype: int64\n"
     ]
    }
   ],
   "source": [
    "print(df.isnull().sum())"
   ]
  },
  {
   "cell_type": "code",
   "execution_count": 133,
   "metadata": {
    "colab": {
     "base_uri": "https://localhost:8080/",
     "height": 283
    },
    "executionInfo": {
     "elapsed": 1031,
     "status": "ok",
     "timestamp": 1614386411220,
     "user": {
      "displayName": "노규남",
      "photoUrl": "",
      "userId": "18354138419357331039"
     },
     "user_tz": -540
    },
    "id": "Rb--IcxS7Ndj",
    "outputId": "c2903d21-a2e5-4169-a76a-10b6da7cd82c"
   },
   "outputs": [
    {
     "data": {
      "text/plain": [
       "<matplotlib.axes._subplots.AxesSubplot at 0x7f07f6f4e2b0>"
      ]
     },
     "execution_count": 133,
     "metadata": {},
     "output_type": "execute_result"
    },
    {
     "data": {
      "image/png": "[encoded data removed]",
      "text/plain": [
       "<matplotlib.figure.Figure at 0x7f07f6efe390>"
      ]
     },
     "metadata": {},
     "output_type": "display_data"
    }
   ],
   "source": [
    "df.plot()"
   ]
  },
  {
   "cell_type": "code",
   "execution_count": 134,
   "metadata": {
    "id": "ANJTR04O7Ndj",
    "outputId": "5b936a3b-98c5-4354-c288-61e981550662"
   },
   "outputs": [
    {
     "data": {
      "text/plain": [
       "<seaborn.axisgrid.PairGrid at 0x7f07f7017080>"
      ]
     },
     "execution_count": 134,
     "metadata": {},
     "output_type": "execute_result"
    },
    {
     "data": {
      "image/png": "[encoded data removed]",
      "text/plain": [
       "<matplotlib.figure.Figure at 0x7f07f6f95b00>"
      ]
     },
     "metadata": {},
     "output_type": "display_data"
    }
   ],
   "source": [
    "sns.pairplot(df)"
   ]
  },
  {
   "cell_type": "code",
   "execution_count": 135,
   "metadata": {
    "executionInfo": {
     "elapsed": 587,
     "status": "ok",
     "timestamp": 1614386468351,
     "user": {
      "displayName": "노규남",
      "photoUrl": "",
      "userId": "18354138419357331039"
     },
     "user_tz": -540
    },
    "id": "fXGTZlEb7Ndk"
   },
   "outputs": [],
   "source": [
    "X_train = data.data\n",
    "y_train = data.target"
   ]
  },
  {
   "cell_type": "code",
   "execution_count": 136,
   "metadata": {
    "colab": {
     "base_uri": "https://localhost:8080/"
    },
    "executionInfo": {
     "elapsed": 682,
     "status": "ok",
     "timestamp": 1614386472898,
     "user": {
      "displayName": "노규남",
      "photoUrl": "",
      "userId": "18354138419357331039"
     },
     "user_tz": -540
    },
    "id": "EXnfYpI47Ndk",
    "outputId": "84174972-edb9-47a0-e538-bcea74d4420f"
   },
   "outputs": [
    {
     "name": "stdout",
     "output_type": "stream",
     "text": [
      "[[  5. 162.  60.]\n",
      " [  2. 110.  60.]\n",
      " [ 12. 101. 101.]\n",
      " [ 12. 105.  37.]\n",
      " [ 13. 155.  58.]]\n"
     ]
    }
   ],
   "source": [
    "print(X_train[:5])"
   ]
  },
  {
   "cell_type": "code",
   "execution_count": 137,
   "metadata": {
    "colab": {
     "base_uri": "https://localhost:8080/"
    },
    "executionInfo": {
     "elapsed": 623,
     "status": "ok",
     "timestamp": 1614386477301,
     "user": {
      "displayName": "노규남",
      "photoUrl": "",
      "userId": "18354138419357331039"
     },
     "user_tz": -540
    },
    "id": "3zNUpdOs7Ndk",
    "outputId": "3a0bfd7f-d778-42b4-eac4-9051e9bce579"
   },
   "outputs": [
    {
     "name": "stdout",
     "output_type": "stream",
     "text": [
      "[[191.  36.  50.]\n",
      " [189.  37.  52.]\n",
      " [193.  38.  58.]\n",
      " [162.  35.  62.]\n",
      " [189.  35.  46.]]\n"
     ]
    }
   ],
   "source": [
    "print(y_train[:5])"
   ]
  },
  {
   "cell_type": "code",
   "execution_count": 138,
   "metadata": {
    "executionInfo": {
     "elapsed": 610,
     "status": "ok",
     "timestamp": 1614386528054,
     "user": {
      "displayName": "노규남",
      "photoUrl": "",
      "userId": "18354138419357331039"
     },
     "user_tz": -540
    },
    "id": "rFbJx6Gq7Ndl"
   },
   "outputs": [],
   "source": [
    "# y = wx + b\n",
    "model = linear_model.LinearRegression()"
   ]
  },
  {
   "cell_type": "code",
   "execution_count": 139,
   "metadata": {
    "colab": {
     "base_uri": "https://localhost:8080/"
    },
    "executionInfo": {
     "elapsed": 612,
     "status": "ok",
     "timestamp": 1614386532305,
     "user": {
      "displayName": "노규남",
      "photoUrl": "",
      "userId": "18354138419357331039"
     },
     "user_tz": -540
    },
    "id": "T2gHBb7j7Ndl",
    "outputId": "dc586b92-9c39-4026-96b0-ea686f592a65"
   },
   "outputs": [
    {
     "data": {
      "text/plain": [
       "LinearRegression(copy_X=True, fit_intercept=True, n_jobs=None, normalize=False)"
      ]
     },
     "execution_count": 139,
     "metadata": {},
     "output_type": "execute_result"
    }
   ],
   "source": [
    "model.fit(X_train, y_train)"
   ]
  },
  {
   "cell_type": "code",
   "execution_count": 140,
   "metadata": {
    "colab": {
     "base_uri": "https://localhost:8080/"
    },
    "executionInfo": {
     "elapsed": 592,
     "status": "ok",
     "timestamp": 1614386535740,
     "user": {
      "displayName": "노규남",
      "photoUrl": "",
      "userId": "18354138419357331039"
     },
     "user_tz": -540
    },
    "id": "5MJfqyVy7Ndl",
    "outputId": "b680b0bf-c39f-4627-c22e-d11b41100dee"
   },
   "outputs": [
    {
     "name": "stdout",
     "output_type": "stream",
     "text": [
      "[[-0.47502636 -0.21771647  0.09308837]\n",
      " [-0.13687023 -0.04033662  0.0279736 ]\n",
      " [ 0.00107079  0.04202941 -0.02946117]]\n"
     ]
    }
   ],
   "source": [
    "print(model.coef_) # 기울기, w1, w2 ... wn"
   ]
  },
  {
   "cell_type": "code",
   "execution_count": 141,
   "metadata": {
    "colab": {
     "base_uri": "https://localhost:8080/"
    },
    "executionInfo": {
     "elapsed": 687,
     "status": "ok",
     "timestamp": 1614386576447,
     "user": {
      "displayName": "노규남",
      "photoUrl": "",
      "userId": "18354138419357331039"
     },
     "user_tz": -540
    },
    "id": "hxdyJf7R7Ndm",
    "outputId": "9e8f098e-b2e0-42a1-dc5d-87c4c3d0962c"
   },
   "outputs": [
    {
     "name": "stdout",
     "output_type": "stream",
     "text": [
      "used features: 9\n"
     ]
    }
   ],
   "source": [
    "print('used features: {}'.format(np.sum(model.coef_ != 0)))"
   ]
  },
  {
   "cell_type": "code",
   "execution_count": 142,
   "metadata": {
    "colab": {
     "base_uri": "https://localhost:8080/"
    },
    "executionInfo": {
     "elapsed": 616,
     "status": "ok",
     "timestamp": 1614386680120,
     "user": {
      "displayName": "노규남",
      "photoUrl": "",
      "userId": "18354138419357331039"
     },
     "user_tz": -540
    },
    "id": "HbBWMxjJ7Ndn",
    "outputId": "e297401a-f1dd-4178-ca7c-75bf9e12dfad"
   },
   "outputs": [
    {
     "name": "stdout",
     "output_type": "stream",
     "text": [
      "0.25725245750743886\n"
     ]
    },
    {
     "name": "stderr",
     "output_type": "stream",
     "text": [
      "/usr/local/lib/python3.5/dist-packages/sklearn/base.py:434: FutureWarning: The default value of multioutput (not exposed in score method) will change from 'variance_weighted' to 'uniform_average' in 0.23 to keep consistent with 'metrics.r2_score'. To specify the default value manually and avoid the warning, please either call 'metrics.r2_score' directly or make a custom scorer with 'metrics.make_scorer' (the built-in scorer 'r2' uses multioutput='uniform_average').\n",
      "  \"multioutput='uniform_average').\", FutureWarning)\n"
     ]
    }
   ],
   "source": [
    "print(model.score(X_train, y_train)) # 0~1"
   ]
  },
  {
   "cell_type": "code",
   "execution_count": 143,
   "metadata": {
    "colab": {
     "base_uri": "https://localhost:8080/"
    },
    "executionInfo": {
     "elapsed": 638,
     "status": "ok",
     "timestamp": 1614386750776,
     "user": {
      "displayName": "노규남",
      "photoUrl": "",
      "userId": "18354138419357331039"
     },
     "user_tz": -540
    },
    "id": "H37vxyZL7Ndn",
    "outputId": "510a9234-c4c4-42a6-87b1-013a38beae9b"
   },
   "outputs": [
    {
     "name": "stdout",
     "output_type": "stream",
     "text": [
      "[208.23351881  40.59787542  52.04362105]\n"
     ]
    }
   ],
   "source": [
    "print(model.intercept_) # 절편, b"
   ]
  },
  {
   "cell_type": "code",
   "execution_count": 144,
   "metadata": {
    "executionInfo": {
     "elapsed": 626,
     "status": "ok",
     "timestamp": 1614386765636,
     "user": {
      "displayName": "노규남",
      "photoUrl": "",
      "userId": "18354138419357331039"
     },
     "user_tz": -540
    },
    "id": "1GxA5xWM7Ndo"
   },
   "outputs": [
    {
     "ename": "ValueError",
     "evalue": "labels ['target'] not contained in axis",
     "output_type": "error",
     "traceback": [
      "\u001b[0;31m---------------------------------------------------------------------------\u001b[0m",
      "\u001b[0;31mValueError\u001b[0m                                Traceback (most recent call last)",
      "\u001b[0;32m<ipython-input-144-7416768cfb1c>\u001b[0m in \u001b[0;36m<module>\u001b[0;34m()\u001b[0m\n\u001b[0;32m----> 1\u001b[0;31m \u001b[0mdf\u001b[0m\u001b[0;34m.\u001b[0m\u001b[0mdrop\u001b[0m\u001b[0;34m(\u001b[0m\u001b[0mcolumns\u001b[0m\u001b[0;34m=\u001b[0m\u001b[0;34m[\u001b[0m\u001b[0;34m'target'\u001b[0m\u001b[0;34m]\u001b[0m\u001b[0;34m,\u001b[0m \u001b[0minplace\u001b[0m\u001b[0;34m=\u001b[0m\u001b[0;32mTrue\u001b[0m\u001b[0;34m)\u001b[0m\u001b[0;34m\u001b[0m\u001b[0m\n\u001b[0m",
      "\u001b[0;32m/usr/local/lib/python3.5/dist-packages/pandas/core/generic.py\u001b[0m in \u001b[0;36mdrop\u001b[0;34m(self, labels, axis, index, columns, level, inplace, errors)\u001b[0m\n\u001b[1;32m   2528\u001b[0m         \u001b[0;32mfor\u001b[0m \u001b[0maxis\u001b[0m\u001b[0;34m,\u001b[0m \u001b[0mlabels\u001b[0m \u001b[0;32min\u001b[0m \u001b[0maxes\u001b[0m\u001b[0;34m.\u001b[0m\u001b[0mitems\u001b[0m\u001b[0;34m(\u001b[0m\u001b[0;34m)\u001b[0m\u001b[0;34m:\u001b[0m\u001b[0;34m\u001b[0m\u001b[0m\n\u001b[1;32m   2529\u001b[0m             \u001b[0;32mif\u001b[0m \u001b[0mlabels\u001b[0m \u001b[0;32mis\u001b[0m \u001b[0;32mnot\u001b[0m \u001b[0;32mNone\u001b[0m\u001b[0;34m:\u001b[0m\u001b[0;34m\u001b[0m\u001b[0m\n\u001b[0;32m-> 2530\u001b[0;31m                 \u001b[0mobj\u001b[0m \u001b[0;34m=\u001b[0m \u001b[0mobj\u001b[0m\u001b[0;34m.\u001b[0m\u001b[0m_drop_axis\u001b[0m\u001b[0;34m(\u001b[0m\u001b[0mlabels\u001b[0m\u001b[0;34m,\u001b[0m \u001b[0maxis\u001b[0m\u001b[0;34m,\u001b[0m \u001b[0mlevel\u001b[0m\u001b[0;34m=\u001b[0m\u001b[0mlevel\u001b[0m\u001b[0;34m,\u001b[0m \u001b[0merrors\u001b[0m\u001b[0;34m=\u001b[0m\u001b[0merrors\u001b[0m\u001b[0;34m)\u001b[0m\u001b[0;34m\u001b[0m\u001b[0m\n\u001b[0m\u001b[1;32m   2531\u001b[0m \u001b[0;34m\u001b[0m\u001b[0m\n\u001b[1;32m   2532\u001b[0m         \u001b[0;32mif\u001b[0m \u001b[0minplace\u001b[0m\u001b[0;34m:\u001b[0m\u001b[0;34m\u001b[0m\u001b[0m\n",
      "\u001b[0;32m/usr/local/lib/python3.5/dist-packages/pandas/core/generic.py\u001b[0m in \u001b[0;36m_drop_axis\u001b[0;34m(self, labels, axis, level, errors)\u001b[0m\n\u001b[1;32m   2560\u001b[0m                 \u001b[0mnew_axis\u001b[0m \u001b[0;34m=\u001b[0m \u001b[0maxis\u001b[0m\u001b[0;34m.\u001b[0m\u001b[0mdrop\u001b[0m\u001b[0;34m(\u001b[0m\u001b[0mlabels\u001b[0m\u001b[0;34m,\u001b[0m \u001b[0mlevel\u001b[0m\u001b[0;34m=\u001b[0m\u001b[0mlevel\u001b[0m\u001b[0;34m,\u001b[0m \u001b[0merrors\u001b[0m\u001b[0;34m=\u001b[0m\u001b[0merrors\u001b[0m\u001b[0;34m)\u001b[0m\u001b[0;34m\u001b[0m\u001b[0m\n\u001b[1;32m   2561\u001b[0m             \u001b[0;32melse\u001b[0m\u001b[0;34m:\u001b[0m\u001b[0;34m\u001b[0m\u001b[0m\n\u001b[0;32m-> 2562\u001b[0;31m                 \u001b[0mnew_axis\u001b[0m \u001b[0;34m=\u001b[0m \u001b[0maxis\u001b[0m\u001b[0;34m.\u001b[0m\u001b[0mdrop\u001b[0m\u001b[0;34m(\u001b[0m\u001b[0mlabels\u001b[0m\u001b[0;34m,\u001b[0m \u001b[0merrors\u001b[0m\u001b[0;34m=\u001b[0m\u001b[0merrors\u001b[0m\u001b[0;34m)\u001b[0m\u001b[0;34m\u001b[0m\u001b[0m\n\u001b[0m\u001b[1;32m   2563\u001b[0m             \u001b[0mdropped\u001b[0m \u001b[0;34m=\u001b[0m \u001b[0mself\u001b[0m\u001b[0;34m.\u001b[0m\u001b[0mreindex\u001b[0m\u001b[0;34m(\u001b[0m\u001b[0;34m**\u001b[0m\u001b[0;34m{\u001b[0m\u001b[0maxis_name\u001b[0m\u001b[0;34m:\u001b[0m \u001b[0mnew_axis\u001b[0m\u001b[0;34m}\u001b[0m\u001b[0;34m)\u001b[0m\u001b[0;34m\u001b[0m\u001b[0m\n\u001b[1;32m   2564\u001b[0m             \u001b[0;32mtry\u001b[0m\u001b[0;34m:\u001b[0m\u001b[0;34m\u001b[0m\u001b[0m\n",
      "\u001b[0;32m/usr/local/lib/python3.5/dist-packages/pandas/core/indexes/base.py\u001b[0m in \u001b[0;36mdrop\u001b[0;34m(self, labels, errors)\u001b[0m\n\u001b[1;32m   3742\u001b[0m             \u001b[0;32mif\u001b[0m \u001b[0merrors\u001b[0m \u001b[0;34m!=\u001b[0m \u001b[0;34m'ignore'\u001b[0m\u001b[0;34m:\u001b[0m\u001b[0;34m\u001b[0m\u001b[0m\n\u001b[1;32m   3743\u001b[0m                 raise ValueError('labels %s not contained in axis' %\n\u001b[0;32m-> 3744\u001b[0;31m                                  labels[mask])\n\u001b[0m\u001b[1;32m   3745\u001b[0m             \u001b[0mindexer\u001b[0m \u001b[0;34m=\u001b[0m \u001b[0mindexer\u001b[0m\u001b[0;34m[\u001b[0m\u001b[0;34m~\u001b[0m\u001b[0mmask\u001b[0m\u001b[0;34m]\u001b[0m\u001b[0;34m\u001b[0m\u001b[0m\n\u001b[1;32m   3746\u001b[0m         \u001b[0;32mreturn\u001b[0m \u001b[0mself\u001b[0m\u001b[0;34m.\u001b[0m\u001b[0mdelete\u001b[0m\u001b[0;34m(\u001b[0m\u001b[0mindexer\u001b[0m\u001b[0;34m)\u001b[0m\u001b[0;34m\u001b[0m\u001b[0m\n",
      "\u001b[0;31mValueError\u001b[0m: labels ['target'] not contained in axis"
     ]
    }
   ],
   "source": [
    "df.drop(columns=['target'], inplace=True)"
   ]
  },
  {
   "cell_type": "code",
   "execution_count": 24,
   "metadata": {
    "executionInfo": {
     "elapsed": 606,
     "status": "ok",
     "timestamp": 1614386767873,
     "user": {
      "displayName": "노규남",
      "photoUrl": "",
      "userId": "18354138419357331039"
     },
     "user_tz": -540
    },
    "id": "03uqc2F07Ndo"
   },
   "outputs": [],
   "source": [
    "X_train = np.array(df)\n",
    "y_train = data.target"
   ]
  },
  {
   "cell_type": "code",
   "execution_count": 25,
   "metadata": {
    "colab": {
     "base_uri": "https://localhost:8080/"
    },
    "executionInfo": {
     "elapsed": 586,
     "status": "ok",
     "timestamp": 1614386770083,
     "user": {
      "displayName": "노규남",
      "photoUrl": "",
      "userId": "18354138419357331039"
     },
     "user_tz": -540
    },
    "id": "6eoebHXb7Ndo",
    "outputId": "62d17563-4d33-4ff5-dc81-f844dbaab7ae"
   },
   "outputs": [
    {
     "data": {
      "text/plain": [
       "LinearRegression(copy_X=True, fit_intercept=True, n_jobs=None, normalize=False)"
      ]
     },
     "execution_count": 25,
     "metadata": {},
     "output_type": "execute_result"
    }
   ],
   "source": [
    "model.fit(X_train, y_train)"
   ]
  },
  {
   "cell_type": "code",
   "execution_count": 26,
   "metadata": {
    "colab": {
     "base_uri": "https://localhost:8080/"
    },
    "executionInfo": {
     "elapsed": 10481,
     "status": "ok",
     "timestamp": 1614386782382,
     "user": {
      "displayName": "노규남",
      "photoUrl": "",
      "userId": "18354138419357331039"
     },
     "user_tz": -540
    },
    "id": "NtUxoenQ7Ndp",
    "outputId": "a4072bac-ced2-4a82-cd46-a609a767d5a1"
   },
   "outputs": [
    {
     "name": "stdout",
     "output_type": "stream",
     "text": [
      "[[-0.47502636 -0.21771647  0.09308837]\n",
      " [-0.13687023 -0.04033662  0.0279736 ]\n",
      " [ 0.00107079  0.04202941 -0.02946117]]\n"
     ]
    }
   ],
   "source": [
    "print(model.coef_)"
   ]
  },
  {
   "cell_type": "code",
   "execution_count": 39,
   "metadata": {
    "executionInfo": {
     "elapsed": 619,
     "status": "ok",
     "timestamp": 1614387696203,
     "user": {
      "displayName": "노규남",
      "photoUrl": "",
      "userId": "18354138419357331039"
     },
     "user_tz": -540
    },
    "id": "UIi3jnDH7Ndp"
   },
   "outputs": [],
   "source": [
    "X_train = df[['Situps']].values\n",
    "y_train = data.target[:,0]"
   ]
  },
  {
   "cell_type": "code",
   "execution_count": 40,
   "metadata": {
    "colab": {
     "base_uri": "https://localhost:8080/"
    },
    "executionInfo": {
     "elapsed": 657,
     "status": "ok",
     "timestamp": 1614387702269,
     "user": {
      "displayName": "노규남",
      "photoUrl": "",
      "userId": "18354138419357331039"
     },
     "user_tz": -540
    },
    "id": "-ZYGRzzi7Ndq",
    "outputId": "b33cc78e-dca3-4776-fabb-e1efe5db4e65"
   },
   "outputs": [
    {
     "name": "stdout",
     "output_type": "stream",
     "text": [
      "<class 'numpy.ndarray'>\n"
     ]
    }
   ],
   "source": [
    "print(type(X_train))"
   ]
  },
  {
   "cell_type": "code",
   "execution_count": 41,
   "metadata": {
    "colab": {
     "base_uri": "https://localhost:8080/"
    },
    "executionInfo": {
     "elapsed": 631,
     "status": "ok",
     "timestamp": 1614387704840,
     "user": {
      "displayName": "노규남",
      "photoUrl": "",
      "userId": "18354138419357331039"
     },
     "user_tz": -540
    },
    "id": "o3CY_Fka7Ndq",
    "outputId": "39c22349-3f91-4217-eefd-dfd27a7c1cfa"
   },
   "outputs": [
    {
     "data": {
      "text/plain": [
       "(20, 1)"
      ]
     },
     "execution_count": 41,
     "metadata": {},
     "output_type": "execute_result"
    }
   ],
   "source": [
    "X_train.shape"
   ]
  },
  {
   "cell_type": "code",
   "execution_count": 42,
   "metadata": {
    "colab": {
     "base_uri": "https://localhost:8080/"
    },
    "executionInfo": {
     "elapsed": 592,
     "status": "ok",
     "timestamp": 1614387710830,
     "user": {
      "displayName": "노규남",
      "photoUrl": "",
      "userId": "18354138419357331039"
     },
     "user_tz": -540
    },
    "id": "E-J5uC347Ndq",
    "outputId": "89aa65c4-00f3-4fbb-f064-874f30cf4ba6"
   },
   "outputs": [
    {
     "name": "stdout",
     "output_type": "stream",
     "text": [
      "[[210.]\n",
      " [ 60.]\n",
      " [230.]\n",
      " [225.]\n",
      " [110.]]\n"
     ]
    }
   ],
   "source": [
    "print(X_train[-5:])"
   ]
  },
  {
   "cell_type": "code",
   "execution_count": 43,
   "metadata": {
    "colab": {
     "base_uri": "https://localhost:8080/"
    },
    "executionInfo": {
     "elapsed": 592,
     "status": "ok",
     "timestamp": 1614387716207,
     "user": {
      "displayName": "노규남",
      "photoUrl": "",
      "userId": "18354138419357331039"
     },
     "user_tz": -540
    },
    "id": "g8mkFOkj7Ndr",
    "outputId": "728a0982-af36-4c90-a20b-8ba4c3579f65"
   },
   "outputs": [
    {
     "name": "stdout",
     "output_type": "stream",
     "text": [
      "[202. 176. 157. 156. 138.]\n"
     ]
    }
   ],
   "source": [
    "print(y_train[-5:])"
   ]
  },
  {
   "cell_type": "code",
   "execution_count": 44,
   "metadata": {
    "colab": {
     "base_uri": "https://localhost:8080/"
    },
    "executionInfo": {
     "elapsed": 599,
     "status": "ok",
     "timestamp": 1614387736151,
     "user": {
      "displayName": "노규남",
      "photoUrl": "",
      "userId": "18354138419357331039"
     },
     "user_tz": -540
    },
    "id": "9Uq-o5bL7Ndr",
    "outputId": "f60b931b-0041-4b4e-b609-9163c197ce29"
   },
   "outputs": [
    {
     "data": {
      "text/plain": [
       "LinearRegression(copy_X=True, fit_intercept=True, n_jobs=None, normalize=False)"
      ]
     },
     "execution_count": 44,
     "metadata": {},
     "output_type": "execute_result"
    }
   ],
   "source": [
    "model.fit(X_train, y_train)"
   ]
  },
  {
   "cell_type": "code",
   "execution_count": 45,
   "metadata": {
    "colab": {
     "base_uri": "https://localhost:8080/"
    },
    "executionInfo": {
     "elapsed": 620,
     "status": "ok",
     "timestamp": 1614387738599,
     "user": {
      "displayName": "노규남",
      "photoUrl": "",
      "userId": "18354138419357331039"
     },
     "user_tz": -540
    },
    "id": "DI9reaup7Nds",
    "outputId": "4a390906-cc3f-4d08-c270-a7bb87279123"
   },
   "outputs": [
    {
     "name": "stdout",
     "output_type": "stream",
     "text": [
      "0.24313148099402082\n"
     ]
    }
   ],
   "source": [
    "print(model.score(X_train, y_train))"
   ]
  },
  {
   "cell_type": "code",
   "execution_count": 46,
   "metadata": {
    "colab": {
     "base_uri": "https://localhost:8080/"
    },
    "executionInfo": {
     "elapsed": 603,
     "status": "ok",
     "timestamp": 1614387752840,
     "user": {
      "displayName": "노규남",
      "photoUrl": "",
      "userId": "18354138419357331039"
     },
     "user_tz": -540
    },
    "id": "mOP4jvMT7Nds",
    "outputId": "bbd65722-30a3-4255-d922-dfff74ec91eb"
   },
   "outputs": [
    {
     "name": "stdout",
     "output_type": "stream",
     "text": [
      "[-0.19458448]\n"
     ]
    }
   ],
   "source": [
    "print(model.coef_)"
   ]
  },
  {
   "cell_type": "code",
   "execution_count": 47,
   "metadata": {
    "colab": {
     "base_uri": "https://localhost:8080/"
    },
    "executionInfo": {
     "elapsed": 600,
     "status": "ok",
     "timestamp": 1614387755717,
     "user": {
      "displayName": "노규남",
      "photoUrl": "",
      "userId": "18354138419357331039"
     },
     "user_tz": -540
    },
    "id": "ehuRGKmu7Nds",
    "outputId": "697889b3-faff-4f84-837d-58a19f5b6a57"
   },
   "outputs": [
    {
     "name": "stdout",
     "output_type": "stream",
     "text": [
      "206.92177079054733\n"
     ]
    }
   ],
   "source": [
    "print(model.intercept_)"
   ]
  },
  {
   "cell_type": "code",
   "execution_count": 48,
   "metadata": {
    "colab": {
     "base_uri": "https://localhost:8080/",
     "height": 283
    },
    "executionInfo": {
     "elapsed": 677,
     "status": "ok",
     "timestamp": 1614387793274,
     "user": {
      "displayName": "노규남",
      "photoUrl": "",
      "userId": "18354138419357331039"
     },
     "user_tz": -540
    },
    "id": "q7OR9iBI7Nds",
    "outputId": "9d591b36-129e-4bf9-f02e-5a47073bbb80"
   },
   "outputs": [
    {
     "data": {
      "text/plain": [
       "<matplotlib.collections.PathCollection at 0x7f07f71d9b38>"
      ]
     },
     "execution_count": 48,
     "metadata": {},
     "output_type": "execute_result"
    },
    {
     "data": {
      "image/png": "[encoded data removed]",
      "text/plain": [
       "<matplotlib.figure.Figure at 0x7f07f7a4beb8>"
      ]
     },
     "metadata": {},
     "output_type": "display_data"
    }
   ],
   "source": [
    "plt.scatter(X_train, y_train)"
   ]
  },
  {
   "cell_type": "code",
   "execution_count": 49,
   "metadata": {
    "executionInfo": {
     "elapsed": 605,
     "status": "ok",
     "timestamp": 1614387858816,
     "user": {
      "displayName": "노규남",
      "photoUrl": "",
      "userId": "18354138419357331039"
     },
     "user_tz": -540
    },
    "id": "yHBvHr0v7Ndt"
   },
   "outputs": [],
   "source": [
    "y = model.predict(X_train)"
   ]
  },
  {
   "cell_type": "code",
   "execution_count": 50,
   "metadata": {
    "colab": {
     "base_uri": "https://localhost:8080/",
     "height": 283
    },
    "executionInfo": {
     "elapsed": 617,
     "status": "ok",
     "timestamp": 1614387862920,
     "user": {
      "displayName": "노규남",
      "photoUrl": "",
      "userId": "18354138419357331039"
     },
     "user_tz": -540
    },
    "id": "-hKVfA7c7Ndt",
    "outputId": "4170585a-7368-44eb-a469-5966d1fb7ea2"
   },
   "outputs": [
    {
     "data": {
      "text/plain": [
       "<matplotlib.collections.PathCollection at 0x7f07f719c7f0>"
      ]
     },
     "execution_count": 50,
     "metadata": {},
     "output_type": "execute_result"
    },
    {
     "data": {
      "image/png": "[encoded data removed]",
      "text/plain": [
       "<matplotlib.figure.Figure at 0x7f07f71e9710>"
      ]
     },
     "metadata": {},
     "output_type": "display_data"
    }
   ],
   "source": [
    "plt.scatter(X_train, y)"
   ]
  },
  {
   "cell_type": "code",
   "execution_count": 51,
   "metadata": {
    "colab": {
     "base_uri": "https://localhost:8080/",
     "height": 265
    },
    "executionInfo": {
     "elapsed": 641,
     "status": "ok",
     "timestamp": 1614387887295,
     "user": {
      "displayName": "노규남",
      "photoUrl": "",
      "userId": "18354138419357331039"
     },
     "user_tz": -540
    },
    "id": "UWx2DBCD7Ndu",
    "outputId": "89f32f57-365d-486c-a799-d97281f273b2"
   },
   "outputs": [
    {
     "data": {
      "image/png": "[encoded data removed]",
      "text/plain": [
       "<matplotlib.figure.Figure at 0x7f07f71e0710>"
      ]
     },
     "metadata": {},
     "output_type": "display_data"
    }
   ],
   "source": [
    "plt.scatter(X_train, y)\n",
    "plt.scatter(X_train, y_train)\n",
    "plt.show()"
   ]
  },
  {
   "cell_type": "markdown",
   "metadata": {
    "id": "UYuQFmGY7Ndu"
   },
   "source": [
    "##  [Ridge regression](https://scikit-learn.org/stable/modules/linear_model.html#ridge-regression-and-classification)"
   ]
  },
  {
   "cell_type": "code",
   "execution_count": 53,
   "metadata": {
    "executionInfo": {
     "elapsed": 646,
     "status": "ok",
     "timestamp": 1614388088665,
     "user": {
      "displayName": "노규남",
      "photoUrl": "",
      "userId": "18354138419357331039"
     },
     "user_tz": -540
    },
    "id": "CNtmCNtj7Ndv"
   },
   "outputs": [],
   "source": [
    "from sklearn import linear_model\n",
    "from sklearn import datasets\n",
    "import pandas as pd\n",
    "import seaborn as sns\n",
    "import numpy as np\n",
    "from matplotlib import pyplot as plt\n",
    "%matplotlib inline"
   ]
  },
  {
   "cell_type": "code",
   "execution_count": 54,
   "metadata": {
    "executionInfo": {
     "elapsed": 603,
     "status": "ok",
     "timestamp": 1614388090805,
     "user": {
      "displayName": "노규남",
      "photoUrl": "",
      "userId": "18354138419357331039"
     },
     "user_tz": -540
    },
    "id": "1p0nU3t07Ndv"
   },
   "outputs": [],
   "source": [
    "data = datasets.load_linnerud()"
   ]
  },
  {
   "cell_type": "code",
   "execution_count": 55,
   "metadata": {
    "executionInfo": {
     "elapsed": 610,
     "status": "ok",
     "timestamp": 1614388091927,
     "user": {
      "displayName": "노규남",
      "photoUrl": "",
      "userId": "18354138419357331039"
     },
     "user_tz": -540
    },
    "id": "kaG-zm5k7Ndw"
   },
   "outputs": [],
   "source": [
    "df = pd.DataFrame(data=data.data, columns=data.feature_names)"
   ]
  },
  {
   "cell_type": "code",
   "execution_count": 63,
   "metadata": {
    "colab": {
     "base_uri": "https://localhost:8080/",
     "height": 203
    },
    "executionInfo": {
     "elapsed": 613,
     "status": "ok",
     "timestamp": 1614388093186,
     "user": {
      "displayName": "노규남",
      "photoUrl": "",
      "userId": "18354138419357331039"
     },
     "user_tz": -540
    },
    "id": "s0O2td1i7Ndx",
    "outputId": "2c740105-080a-4192-eba4-4a95d4091dda",
    "scrolled": true
   },
   "outputs": [
    {
     "data": {
      "text/html": [
       "<div>\n",
       "<style scoped>\n",
       "    .dataframe tbody tr th:only-of-type {\n",
       "        vertical-align: middle;\n",
       "    }\n",
       "\n",
       "    .dataframe tbody tr th {\n",
       "        vertical-align: top;\n",
       "    }\n",
       "\n",
       "    .dataframe thead th {\n",
       "        text-align: right;\n",
       "    }\n",
       "</style>\n",
       "<table border=\"1\" class=\"dataframe\">\n",
       "  <thead>\n",
       "    <tr style=\"text-align: right;\">\n",
       "      <th></th>\n",
       "      <th>Chins</th>\n",
       "      <th>Situps</th>\n",
       "      <th>Jumps</th>\n",
       "    </tr>\n",
       "  </thead>\n",
       "  <tbody>\n",
       "    <tr>\n",
       "      <th>0</th>\n",
       "      <td>5.0</td>\n",
       "      <td>162.0</td>\n",
       "      <td>60.0</td>\n",
       "    </tr>\n",
       "    <tr>\n",
       "      <th>1</th>\n",
       "      <td>2.0</td>\n",
       "      <td>110.0</td>\n",
       "      <td>60.0</td>\n",
       "    </tr>\n",
       "    <tr>\n",
       "      <th>2</th>\n",
       "      <td>12.0</td>\n",
       "      <td>101.0</td>\n",
       "      <td>101.0</td>\n",
       "    </tr>\n",
       "    <tr>\n",
       "      <th>3</th>\n",
       "      <td>12.0</td>\n",
       "      <td>105.0</td>\n",
       "      <td>37.0</td>\n",
       "    </tr>\n",
       "    <tr>\n",
       "      <th>4</th>\n",
       "      <td>13.0</td>\n",
       "      <td>155.0</td>\n",
       "      <td>58.0</td>\n",
       "    </tr>\n",
       "  </tbody>\n",
       "</table>\n",
       "</div>"
      ],
      "text/plain": [
       "   Chins  Situps  Jumps\n",
       "0    5.0   162.0   60.0\n",
       "1    2.0   110.0   60.0\n",
       "2   12.0   101.0  101.0\n",
       "3   12.0   105.0   37.0\n",
       "4   13.0   155.0   58.0"
      ]
     },
     "execution_count": 63,
     "metadata": {},
     "output_type": "execute_result"
    }
   ],
   "source": [
    "df.head()"
   ]
  },
  {
   "cell_type": "code",
   "execution_count": 64,
   "metadata": {
    "colab": {
     "base_uri": "https://localhost:8080/",
     "height": 203
    },
    "executionInfo": {
     "elapsed": 718,
     "status": "ok",
     "timestamp": 1614388095698,
     "user": {
      "displayName": "노규남",
      "photoUrl": "",
      "userId": "18354138419357331039"
     },
     "user_tz": -540
    },
    "id": "BDLAYe2B7Ndy",
    "outputId": "0915a9d6-06ac-441c-b83a-99d77352ee27"
   },
   "outputs": [
    {
     "data": {
      "text/html": [
       "<div>\n",
       "<style scoped>\n",
       "    .dataframe tbody tr th:only-of-type {\n",
       "        vertical-align: middle;\n",
       "    }\n",
       "\n",
       "    .dataframe tbody tr th {\n",
       "        vertical-align: top;\n",
       "    }\n",
       "\n",
       "    .dataframe thead th {\n",
       "        text-align: right;\n",
       "    }\n",
       "</style>\n",
       "<table border=\"1\" class=\"dataframe\">\n",
       "  <thead>\n",
       "    <tr style=\"text-align: right;\">\n",
       "      <th></th>\n",
       "      <th>Chins</th>\n",
       "      <th>Situps</th>\n",
       "      <th>Jumps</th>\n",
       "    </tr>\n",
       "  </thead>\n",
       "  <tbody>\n",
       "    <tr>\n",
       "      <th>15</th>\n",
       "      <td>12.0</td>\n",
       "      <td>210.0</td>\n",
       "      <td>120.0</td>\n",
       "    </tr>\n",
       "    <tr>\n",
       "      <th>16</th>\n",
       "      <td>4.0</td>\n",
       "      <td>60.0</td>\n",
       "      <td>25.0</td>\n",
       "    </tr>\n",
       "    <tr>\n",
       "      <th>17</th>\n",
       "      <td>11.0</td>\n",
       "      <td>230.0</td>\n",
       "      <td>80.0</td>\n",
       "    </tr>\n",
       "    <tr>\n",
       "      <th>18</th>\n",
       "      <td>15.0</td>\n",
       "      <td>225.0</td>\n",
       "      <td>73.0</td>\n",
       "    </tr>\n",
       "    <tr>\n",
       "      <th>19</th>\n",
       "      <td>2.0</td>\n",
       "      <td>110.0</td>\n",
       "      <td>43.0</td>\n",
       "    </tr>\n",
       "  </tbody>\n",
       "</table>\n",
       "</div>"
      ],
      "text/plain": [
       "    Chins  Situps  Jumps\n",
       "15   12.0   210.0  120.0\n",
       "16    4.0    60.0   25.0\n",
       "17   11.0   230.0   80.0\n",
       "18   15.0   225.0   73.0\n",
       "19    2.0   110.0   43.0"
      ]
     },
     "execution_count": 64,
     "metadata": {},
     "output_type": "execute_result"
    }
   ],
   "source": [
    "df.tail()"
   ]
  },
  {
   "cell_type": "code",
   "execution_count": 65,
   "metadata": {
    "executionInfo": {
     "elapsed": 673,
     "status": "ok",
     "timestamp": 1614388104026,
     "user": {
      "displayName": "노규남",
      "photoUrl": "",
      "userId": "18354138419357331039"
     },
     "user_tz": -540
    },
    "id": "M589zQ687Ndy"
   },
   "outputs": [],
   "source": [
    "X_train = df[['Situps']].values\n",
    "y_train = data.target[:,0]"
   ]
  },
  {
   "cell_type": "code",
   "execution_count": 66,
   "metadata": {
    "executionInfo": {
     "elapsed": 665,
     "status": "ok",
     "timestamp": 1614388116409,
     "user": {
      "displayName": "노규남",
      "photoUrl": "",
      "userId": "18354138419357331039"
     },
     "user_tz": -540
    },
    "id": "sThJ5kRz7Ndz"
   },
   "outputs": [],
   "source": [
    "# LInearRegression과 비슷하나 overfit이 덜 된다\n",
    "\n",
    "model = linear_model.Ridge(alpha=0.5)"
   ]
  },
  {
   "cell_type": "code",
   "execution_count": 67,
   "metadata": {
    "colab": {
     "base_uri": "https://localhost:8080/"
    },
    "executionInfo": {
     "elapsed": 590,
     "status": "ok",
     "timestamp": 1614388117963,
     "user": {
      "displayName": "노규남",
      "photoUrl": "",
      "userId": "18354138419357331039"
     },
     "user_tz": -540
    },
    "id": "zh6uiyc07Ndz",
    "outputId": "a8dec617-1825-40ba-8069-0cdf5165b3ec"
   },
   "outputs": [
    {
     "data": {
      "text/plain": [
       "Ridge(alpha=0.5, copy_X=True, fit_intercept=True, max_iter=None,\n",
       "      normalize=False, random_state=None, solver='auto', tol=0.001)"
      ]
     },
     "execution_count": 67,
     "metadata": {},
     "output_type": "execute_result"
    }
   ],
   "source": [
    "model.fit(X_train, y_train)"
   ]
  },
  {
   "cell_type": "code",
   "execution_count": 68,
   "metadata": {
    "colab": {
     "base_uri": "https://localhost:8080/"
    },
    "executionInfo": {
     "elapsed": 610,
     "status": "ok",
     "timestamp": 1614388121730,
     "user": {
      "displayName": "노규남",
      "photoUrl": "",
      "userId": "18354138419357331039"
     },
     "user_tz": -540
    },
    "id": "54R7jCmE7Ndz",
    "outputId": "1a1d847b-133c-4893-b225-a1efbf3cea9e"
   },
   "outputs": [
    {
     "name": "stdout",
     "output_type": "stream",
     "text": [
      "0.24313148098303283\n"
     ]
    }
   ],
   "source": [
    "print(model.score(X_train, y_train))"
   ]
  },
  {
   "cell_type": "code",
   "execution_count": 69,
   "metadata": {
    "colab": {
     "base_uri": "https://localhost:8080/",
     "height": 283
    },
    "executionInfo": {
     "elapsed": 623,
     "status": "ok",
     "timestamp": 1614388125172,
     "user": {
      "displayName": "노규남",
      "photoUrl": "",
      "userId": "18354138419357331039"
     },
     "user_tz": -540
    },
    "id": "FdfJOqiS7Nd0",
    "outputId": "c4830a63-fc6c-4d3a-d718-cc3d9bc61e56"
   },
   "outputs": [
    {
     "data": {
      "text/plain": [
       "<matplotlib.collections.PathCollection at 0x7f07f7001da0>"
      ]
     },
     "execution_count": 69,
     "metadata": {},
     "output_type": "execute_result"
    },
    {
     "data": {
      "image/png": "[encoded data removed]",
      "text/plain": [
       "<matplotlib.figure.Figure at 0x7f07f710ee10>"
      ]
     },
     "metadata": {},
     "output_type": "display_data"
    }
   ],
   "source": [
    "plt.scatter(X_train, y_train)"
   ]
  },
  {
   "cell_type": "code",
   "execution_count": 70,
   "metadata": {
    "executionInfo": {
     "elapsed": 613,
     "status": "ok",
     "timestamp": 1614388128091,
     "user": {
      "displayName": "노규남",
      "photoUrl": "",
      "userId": "18354138419357331039"
     },
     "user_tz": -540
    },
    "id": "piyvlciI7Nd0"
   },
   "outputs": [],
   "source": [
    "y = model.predict(X_train)"
   ]
  },
  {
   "cell_type": "code",
   "execution_count": 71,
   "metadata": {
    "colab": {
     "base_uri": "https://localhost:8080/",
     "height": 283
    },
    "executionInfo": {
     "elapsed": 613,
     "status": "ok",
     "timestamp": 1614388129518,
     "user": {
      "displayName": "노규남",
      "photoUrl": "",
      "userId": "18354138419357331039"
     },
     "user_tz": -540
    },
    "id": "_iYFYcXO7Nd0",
    "outputId": "d3dc599c-e35e-4abe-b9cf-602fdd1bbd45"
   },
   "outputs": [
    {
     "data": {
      "text/plain": [
       "<matplotlib.collections.PathCollection at 0x7f07f6fc1940>"
      ]
     },
     "execution_count": 71,
     "metadata": {},
     "output_type": "execute_result"
    },
    {
     "data": {
      "image/png": "[encoded data removed]",
      "text/plain": [
       "<matplotlib.figure.Figure at 0x7f07f7014eb8>"
      ]
     },
     "metadata": {},
     "output_type": "display_data"
    }
   ],
   "source": [
    "plt.scatter(X_train, y)"
   ]
  },
  {
   "cell_type": "code",
   "execution_count": 72,
   "metadata": {
    "colab": {
     "base_uri": "https://localhost:8080/",
     "height": 265
    },
    "executionInfo": {
     "elapsed": 640,
     "status": "ok",
     "timestamp": 1614388166961,
     "user": {
      "displayName": "노규남",
      "photoUrl": "",
      "userId": "18354138419357331039"
     },
     "user_tz": -540
    },
    "id": "xCEf606h7Nd1",
    "outputId": "c9162ec3-d0b6-4d1f-c7b2-23f0e18b8de1"
   },
   "outputs": [
    {
     "data": {
      "image/png": "[encoded data removed]",
      "text/plain": [
       "<matplotlib.figure.Figure at 0x7f07f702cf28>"
      ]
     },
     "metadata": {},
     "output_type": "display_data"
    }
   ],
   "source": [
    "plt.scatter(X_train, y)\n",
    "plt.scatter(X_train, y_train)\n",
    "plt.show()"
   ]
  },
  {
   "cell_type": "markdown",
   "metadata": {
    "id": "5Ugd5amS7Nd1"
   },
   "source": [
    "## [Lasso](https://scikit-learn.org/stable/modules/linear_model.html#lasso)"
   ]
  },
  {
   "cell_type": "code",
   "execution_count": 73,
   "metadata": {
    "executionInfo": {
     "elapsed": 627,
     "status": "ok",
     "timestamp": 1614388209087,
     "user": {
      "displayName": "노규남",
      "photoUrl": "",
      "userId": "18354138419357331039"
     },
     "user_tz": -540
    },
    "id": "JmQ7SKwl7Nd1"
   },
   "outputs": [],
   "source": [
    "X_train = df[['Situps']].values\n",
    "y_train = data.target[:,0]"
   ]
  },
  {
   "cell_type": "code",
   "execution_count": 74,
   "metadata": {
    "executionInfo": {
     "elapsed": 589,
     "status": "ok",
     "timestamp": 1614388212351,
     "user": {
      "displayName": "노규남",
      "photoUrl": "",
      "userId": "18354138419357331039"
     },
     "user_tz": -540
    },
    "id": "waNuIuHi7Nd1"
   },
   "outputs": [],
   "source": [
    "model = linear_model.Lasso(alpha=0.1)"
   ]
  },
  {
   "cell_type": "code",
   "execution_count": 75,
   "metadata": {
    "colab": {
     "base_uri": "https://localhost:8080/"
    },
    "executionInfo": {
     "elapsed": 604,
     "status": "ok",
     "timestamp": 1614388214470,
     "user": {
      "displayName": "노규남",
      "photoUrl": "",
      "userId": "18354138419357331039"
     },
     "user_tz": -540
    },
    "id": "RzVufiQu7Nd2",
    "outputId": "12946c85-3ed5-4623-e18a-a70184bb170f"
   },
   "outputs": [
    {
     "data": {
      "text/plain": [
       "Lasso(alpha=0.1, copy_X=True, fit_intercept=True, max_iter=1000,\n",
       "      normalize=False, positive=False, precompute=False, random_state=None,\n",
       "      selection='cyclic', tol=0.0001, warm_start=False)"
      ]
     },
     "execution_count": 75,
     "metadata": {},
     "output_type": "execute_result"
    }
   ],
   "source": [
    "model.fit(X_train, y_train)"
   ]
  },
  {
   "cell_type": "code",
   "execution_count": 76,
   "metadata": {
    "executionInfo": {
     "elapsed": 670,
     "status": "ok",
     "timestamp": 1614388216840,
     "user": {
      "displayName": "노규남",
      "photoUrl": "",
      "userId": "18354138419357331039"
     },
     "user_tz": -540
    },
    "id": "7m-pgyeY7Nd2"
   },
   "outputs": [],
   "source": [
    "y = model.predict(X_train)"
   ]
  },
  {
   "cell_type": "code",
   "execution_count": 77,
   "metadata": {
    "colab": {
     "base_uri": "https://localhost:8080/"
    },
    "executionInfo": {
     "elapsed": 581,
     "status": "ok",
     "timestamp": 1614388218218,
     "user": {
      "displayName": "노규남",
      "photoUrl": "",
      "userId": "18354138419357331039"
     },
     "user_tz": -540
    },
    "id": "_8RKbO0G7Nd2",
    "outputId": "111728de-78f5-433f-9038-be6f64367bb4"
   },
   "outputs": [
    {
     "name": "stdout",
     "output_type": "stream",
     "text": [
      "0.24313147635092047\n"
     ]
    }
   ],
   "source": [
    "print(model.score(X_train, y_train))"
   ]
  },
  {
   "cell_type": "code",
   "execution_count": 78,
   "metadata": {
    "colab": {
     "base_uri": "https://localhost:8080/",
     "height": 265
    },
    "executionInfo": {
     "elapsed": 641,
     "status": "ok",
     "timestamp": 1614388221584,
     "user": {
      "displayName": "노규남",
      "photoUrl": "",
      "userId": "18354138419357331039"
     },
     "user_tz": -540
    },
    "id": "6Sd5iWQG7Nd2",
    "outputId": "a817600c-5a6a-4f7c-c040-e726943529cf"
   },
   "outputs": [
    {
     "data": {
      "image/png": "[encoded data removed]",
      "text/plain": [
       "<matplotlib.figure.Figure at 0x7f07f7028080>"
      ]
     },
     "metadata": {},
     "output_type": "display_data"
    }
   ],
   "source": [
    "plt.scatter(X_train, y)\n",
    "plt.scatter(X_train, y_train)\n",
    "plt.show()"
   ]
  },
  {
   "cell_type": "markdown",
   "metadata": {
    "id": "weu7I-FH7Nd3"
   },
   "source": [
    "## [Multi-mask Lasso](https://scikit-learn.org/stable/modules/linear_model.html#multi-task-lasso)"
   ]
  },
  {
   "cell_type": "markdown",
   "metadata": {
    "id": "YDLcjVSO7Nd3"
   },
   "source": [
    "## [Elastic-Net](https://scikit-learn.org/stable/modules/linear_model.html#elastic-net)"
   ]
  },
  {
   "cell_type": "code",
   "execution_count": 79,
   "metadata": {
    "executionInfo": {
     "elapsed": 598,
     "status": "ok",
     "timestamp": 1614388251060,
     "user": {
      "displayName": "노규남",
      "photoUrl": "",
      "userId": "18354138419357331039"
     },
     "user_tz": -540
    },
    "id": "HeFijdnL7Nd3"
   },
   "outputs": [],
   "source": [
    "X_train = df[['Situps']].values\n",
    "y_train = data.target[:,0]"
   ]
  },
  {
   "cell_type": "code",
   "execution_count": 80,
   "metadata": {
    "executionInfo": {
     "elapsed": 670,
     "status": "ok",
     "timestamp": 1614388252841,
     "user": {
      "displayName": "노규남",
      "photoUrl": "",
      "userId": "18354138419357331039"
     },
     "user_tz": -540
    },
    "id": "aG1wIfkE7Nd3"
   },
   "outputs": [],
   "source": [
    "model = linear_model.ElasticNet()"
   ]
  },
  {
   "cell_type": "code",
   "execution_count": 81,
   "metadata": {
    "colab": {
     "base_uri": "https://localhost:8080/"
    },
    "executionInfo": {
     "elapsed": 571,
     "status": "ok",
     "timestamp": 1614388254462,
     "user": {
      "displayName": "노규남",
      "photoUrl": "",
      "userId": "18354138419357331039"
     },
     "user_tz": -540
    },
    "id": "wseMsR5t7Nd3",
    "outputId": "e4dbbba8-1863-49a4-d732-8916cf819a8a"
   },
   "outputs": [
    {
     "data": {
      "text/plain": [
       "ElasticNet(alpha=1.0, copy_X=True, fit_intercept=True, l1_ratio=0.5,\n",
       "           max_iter=1000, normalize=False, positive=False, precompute=False,\n",
       "           random_state=None, selection='cyclic', tol=0.0001, warm_start=False)"
      ]
     },
     "execution_count": 81,
     "metadata": {},
     "output_type": "execute_result"
    }
   ],
   "source": [
    "model.fit(X_train, y_train)"
   ]
  },
  {
   "cell_type": "code",
   "execution_count": 82,
   "metadata": {
    "executionInfo": {
     "elapsed": 699,
     "status": "ok",
     "timestamp": 1614388255789,
     "user": {
      "displayName": "노규남",
      "photoUrl": "",
      "userId": "18354138419357331039"
     },
     "user_tz": -540
    },
    "id": "5HJxazz37Nd4"
   },
   "outputs": [],
   "source": [
    "y = model.predict(X_train)"
   ]
  },
  {
   "cell_type": "code",
   "execution_count": 83,
   "metadata": {
    "colab": {
     "base_uri": "https://localhost:8080/",
     "height": 265
    },
    "executionInfo": {
     "elapsed": 668,
     "status": "ok",
     "timestamp": 1614388257910,
     "user": {
      "displayName": "노규남",
      "photoUrl": "",
      "userId": "18354138419357331039"
     },
     "user_tz": -540
    },
    "id": "oNitzM3F7Nd4",
    "outputId": "9cb2cf3e-6b06-42f4-dde2-eca7b315e166"
   },
   "outputs": [
    {
     "data": {
      "image/png": "[encoded data removed]",
      "text/plain": [
       "<matplotlib.figure.Figure at 0x7f07f6fad7b8>"
      ]
     },
     "metadata": {},
     "output_type": "display_data"
    }
   ],
   "source": [
    "plt.scatter(X_train, y)\n",
    "plt.scatter(X_train, y_train)\n",
    "plt.show()"
   ]
  },
  {
   "cell_type": "markdown",
   "metadata": {
    "id": "0oQ5QLRz7Nd7"
   },
   "source": [
    "## [Multi-task Elastic-Net](https://scikit-learn.org/stable/modules/linear_model.html#multi-task-elastic-net)"
   ]
  },
  {
   "cell_type": "markdown",
   "metadata": {
    "id": "hNo5EEsL7Nd7"
   },
   "source": [
    "## [Least Angle Regression](https://scikit-learn.org/stable/modules/linear_model.html#least-angle-regression)"
   ]
  },
  {
   "cell_type": "code",
   "execution_count": 84,
   "metadata": {
    "id": "BaJKffIJ7Nd8"
   },
   "outputs": [],
   "source": [
    "X_train = df[['Situps']].as_matrix()\n",
    "y_train = data.target[:,0]"
   ]
  },
  {
   "cell_type": "code",
   "execution_count": 85,
   "metadata": {
    "id": "6yxKrGn67Nd8"
   },
   "outputs": [],
   "source": [
    "model = linear_model.Lars(n_nonzero_coefs=1)"
   ]
  },
  {
   "cell_type": "code",
   "execution_count": 86,
   "metadata": {
    "id": "aPTHR7XG7Nd9",
    "outputId": "0e543b06-6a66-4078-eb6c-82182918ad1c"
   },
   "outputs": [
    {
     "data": {
      "text/plain": [
       "Lars(copy_X=True, eps=2.220446049250313e-16, fit_intercept=True, fit_path=True,\n",
       "     n_nonzero_coefs=1, normalize=True, precompute='auto', verbose=False)"
      ]
     },
     "execution_count": 86,
     "metadata": {},
     "output_type": "execute_result"
    }
   ],
   "source": [
    "model.fit(X_train, y_train)"
   ]
  },
  {
   "cell_type": "code",
   "execution_count": 87,
   "metadata": {
    "id": "WsW0pHY77Nd9"
   },
   "outputs": [],
   "source": [
    "y = model.predict(X_train)"
   ]
  },
  {
   "cell_type": "code",
   "execution_count": 88,
   "metadata": {
    "id": "7XzYaeYK7Nd-",
    "outputId": "3da00f54-6c5f-414e-e656-26d097bee75b"
   },
   "outputs": [
    {
     "data": {
      "image/png": "[encoded data removed]",
      "text/plain": [
       "<matplotlib.figure.Figure at 0x7f07f6f670f0>"
      ]
     },
     "metadata": {},
     "output_type": "display_data"
    }
   ],
   "source": [
    "plt.scatter(X_train, y)\n",
    "plt.scatter(X_train, y_train)\n",
    "plt.show()"
   ]
  },
  {
   "cell_type": "markdown",
   "metadata": {
    "id": "ede5OqT47Nd_"
   },
   "source": [
    "## [LARS Lasso](https://scikit-learn.org/stable/modules/linear_model.html#lars-lasso)"
   ]
  },
  {
   "cell_type": "code",
   "execution_count": 89,
   "metadata": {
    "id": "NGp1M-Rq7Nd_"
   },
   "outputs": [],
   "source": [
    "X_train = df[['Situps']].as_matrix()\n",
    "y_train = data.target[:,0]"
   ]
  },
  {
   "cell_type": "code",
   "execution_count": 90,
   "metadata": {
    "id": "lwpeJi2s7NeB"
   },
   "outputs": [],
   "source": [
    "model = linear_model.LassoLars(alpha=0.1)"
   ]
  },
  {
   "cell_type": "code",
   "execution_count": 91,
   "metadata": {
    "id": "V-A3x5qq7NeC",
    "outputId": "e2849e93-a9b2-4798-f1bb-fd780d39e275"
   },
   "outputs": [
    {
     "data": {
      "text/plain": [
       "LassoLars(alpha=0.1, copy_X=True, eps=2.220446049250313e-16, fit_intercept=True,\n",
       "          fit_path=True, max_iter=500, normalize=True, positive=False,\n",
       "          precompute='auto', verbose=False)"
      ]
     },
     "execution_count": 91,
     "metadata": {},
     "output_type": "execute_result"
    }
   ],
   "source": [
    "model.fit(X_train, y_train)"
   ]
  },
  {
   "cell_type": "code",
   "execution_count": 92,
   "metadata": {
    "id": "9rEQErX77NeD"
   },
   "outputs": [],
   "source": [
    "y = model.predict(X_train)"
   ]
  },
  {
   "cell_type": "code",
   "execution_count": 93,
   "metadata": {
    "id": "UgSA01kA7NeE",
    "outputId": "b1e085cb-5307-4912-f1f6-35a3dca3ae10"
   },
   "outputs": [
    {
     "data": {
      "image/png": "[encoded data removed]",
      "text/plain": [
       "<matplotlib.figure.Figure at 0x7f07f6ec4320>"
      ]
     },
     "metadata": {},
     "output_type": "display_data"
    }
   ],
   "source": [
    "plt.scatter(X_train, y)\n",
    "plt.scatter(X_train, y_train)\n",
    "plt.show()"
   ]
  },
  {
   "cell_type": "markdown",
   "metadata": {
    "id": "os5z8lhv7NeG"
   },
   "source": [
    "## [Orthogonal Matching Pursuit](https://scikit-learn.org/stable/modules/linear_model.html#orthogonal-matching-pursuit-omp)"
   ]
  },
  {
   "cell_type": "code",
   "execution_count": 94,
   "metadata": {
    "id": "EzkQplYq7NeG"
   },
   "outputs": [],
   "source": [
    "X_train = df[['Situps']].as_matrix()\n",
    "y_train = data.target[:,0]"
   ]
  },
  {
   "cell_type": "code",
   "execution_count": 95,
   "metadata": {
    "id": "nEYUX5jb7NeH"
   },
   "outputs": [],
   "source": [
    "model = linear_model.OrthogonalMatchingPursuit()"
   ]
  },
  {
   "cell_type": "code",
   "execution_count": 96,
   "metadata": {
    "id": "XekOc6G97NeH",
    "outputId": "a535dd17-e5b6-4e9d-8aa6-e7295749545b"
   },
   "outputs": [
    {
     "data": {
      "text/plain": [
       "OrthogonalMatchingPursuit(fit_intercept=True, n_nonzero_coefs=None,\n",
       "                          normalize=True, precompute='auto', tol=None)"
      ]
     },
     "execution_count": 96,
     "metadata": {},
     "output_type": "execute_result"
    }
   ],
   "source": [
    "model.fit(X_train, y_train)"
   ]
  },
  {
   "cell_type": "code",
   "execution_count": 97,
   "metadata": {
    "id": "YxbwRbJ87NeI"
   },
   "outputs": [],
   "source": [
    "y = model.predict(X_train)"
   ]
  },
  {
   "cell_type": "code",
   "execution_count": 98,
   "metadata": {
    "id": "3YR-YLBn7NeK",
    "outputId": "9f65de2a-23c7-4206-bd9c-f6a1d54e4f01"
   },
   "outputs": [
    {
     "data": {
      "image/png": "[encoded data removed]",
      "text/plain": [
       "<matplotlib.figure.Figure at 0x7f07f6eda048>"
      ]
     },
     "metadata": {},
     "output_type": "display_data"
    }
   ],
   "source": [
    "plt.scatter(X_train, y)\n",
    "plt.scatter(X_train, y_train)\n",
    "plt.show()"
   ]
  },
  {
   "cell_type": "markdown",
   "metadata": {
    "id": "USzReHkt7NeK"
   },
   "source": [
    "## [Bayesian Regression](https://scikit-learn.org/stable/modules/linear_model.html#bayesian-regression)"
   ]
  },
  {
   "cell_type": "code",
   "execution_count": 99,
   "metadata": {
    "id": "n3yrF-_o7NeL"
   },
   "outputs": [],
   "source": [
    "X_train = df[['Situps']].as_matrix()\n",
    "y_train = data.target[:,0]"
   ]
  },
  {
   "cell_type": "code",
   "execution_count": 100,
   "metadata": {
    "id": "Sr0_Bdov7NeL"
   },
   "outputs": [],
   "source": [
    "model = linear_model.BayesianRidge()"
   ]
  },
  {
   "cell_type": "code",
   "execution_count": 101,
   "metadata": {
    "id": "H0Ehnird7NeL",
    "outputId": "752caec0-fa1d-49fa-91fc-5ac7fb71bd0d"
   },
   "outputs": [
    {
     "data": {
      "text/plain": [
       "BayesianRidge(alpha_1=1e-06, alpha_2=1e-06, alpha_init=None,\n",
       "              compute_score=False, copy_X=True, fit_intercept=True,\n",
       "              lambda_1=1e-06, lambda_2=1e-06, lambda_init=None, n_iter=300,\n",
       "              normalize=False, tol=0.001, verbose=False)"
      ]
     },
     "execution_count": 101,
     "metadata": {},
     "output_type": "execute_result"
    }
   ],
   "source": [
    "model.fit(X_train, y_train)"
   ]
  },
  {
   "cell_type": "code",
   "execution_count": 102,
   "metadata": {
    "id": "0PF_DwbE7NeL"
   },
   "outputs": [],
   "source": [
    "y = model.predict(X_train)"
   ]
  },
  {
   "cell_type": "code",
   "execution_count": 103,
   "metadata": {
    "id": "zE02veUW7NeM",
    "outputId": "9c1ae40b-2c7c-45bb-a9c0-f6e0f062ae3d",
    "scrolled": true
   },
   "outputs": [
    {
     "data": {
      "image/png": "[encoded data removed]",
      "text/plain": [
       "<matplotlib.figure.Figure at 0x7f07f6eda6a0>"
      ]
     },
     "metadata": {},
     "output_type": "display_data"
    }
   ],
   "source": [
    "plt.scatter(X_train, y)\n",
    "plt.scatter(X_train, y_train)\n",
    "plt.show()"
   ]
  },
  {
   "cell_type": "code",
   "execution_count": 84,
   "metadata": {
    "id": "TRKBGgpE7NeM"
   },
   "outputs": [],
   "source": [
    "# need to watch the log and python code\n",
    "#X_train = df[['MedInc']].as_matrix()\n",
    "#y_train = data.target"
   ]
  },
  {
   "cell_type": "code",
   "execution_count": 85,
   "metadata": {
    "id": "Shzk2qKl7NeM"
   },
   "outputs": [],
   "source": [
    "#model = linear_model.ARDRegression()"
   ]
  },
  {
   "cell_type": "code",
   "execution_count": 86,
   "metadata": {
    "id": "HA2XRcSg7NeN",
    "outputId": "8a5958c2-68f3-4bcb-c454-9fc6665d595c"
   },
   "outputs": [],
   "source": [
    "#model.fit(X_train, y_train)"
   ]
  },
  {
   "cell_type": "code",
   "execution_count": 87,
   "metadata": {
    "id": "d9q292k_7NeN"
   },
   "outputs": [],
   "source": [
    "#y = model.predict(X_train)"
   ]
  },
  {
   "cell_type": "code",
   "execution_count": 88,
   "metadata": {
    "id": "YvIHQy-e7NeN",
    "outputId": "ab07859c-6194-43a2-e2d5-361651cfc7b3"
   },
   "outputs": [],
   "source": [
    "#plt.scatter(X_train, y)\n",
    "#plt.scatter(X_train, y_train)\n",
    "#plt.show()"
   ]
  },
  {
   "cell_type": "markdown",
   "metadata": {
    "id": "CB2EzQeJ7NeN"
   },
   "source": [
    "## [ Stochastic Gradient Descent](https://scikit-learn.org/stable/modules/linear_model.html#stochastic-gradient-descent-sgd)"
   ]
  },
  {
   "cell_type": "code",
   "execution_count": 104,
   "metadata": {
    "id": "Io8qZOXh7NeO"
   },
   "outputs": [],
   "source": [
    "X_train = df[['Situps']].as_matrix()\n",
    "y_train = data.target[:,0]"
   ]
  },
  {
   "cell_type": "code",
   "execution_count": 105,
   "metadata": {
    "id": "nj0XLA-y7NeO"
   },
   "outputs": [],
   "source": [
    "model = linear_model.SGDRegressor(max_iter=1000, tol=1e-3)"
   ]
  },
  {
   "cell_type": "code",
   "execution_count": 91,
   "metadata": {
    "id": "IYF6OuNC7NeO",
    "outputId": "232defcc-b307-4117-84b9-d1068855fe6c"
   },
   "outputs": [
    {
     "data": {
      "text/plain": [
       "SGDRegressor(alpha=0.0001, average=False, early_stopping=False, epsilon=0.1,\n",
       "             eta0=0.01, fit_intercept=True, l1_ratio=0.15,\n",
       "             learning_rate='invscaling', loss='squared_loss', max_iter=1000,\n",
       "             n_iter_no_change=5, penalty='l2', power_t=0.25, random_state=None,\n",
       "             shuffle=True, tol=0.001, validation_fraction=0.1, verbose=0,\n",
       "             warm_start=False)"
      ]
     },
     "execution_count": 91,
     "metadata": {},
     "output_type": "execute_result"
    }
   ],
   "source": [
    "model.fit(X_train, y_train)"
   ]
  },
  {
   "cell_type": "code",
   "execution_count": 92,
   "metadata": {
    "id": "CaTnBaxP7NeP"
   },
   "outputs": [],
   "source": [
    "y = model.predict(X_train)"
   ]
  },
  {
   "cell_type": "code",
   "execution_count": 93,
   "metadata": {
    "id": "P2wp8lgh7NeP",
    "outputId": "d7abe14f-8396-48af-c6fd-4a2a55820d76"
   },
   "outputs": [
    {
     "data": {
      "image/png": "[encoded data removed]",
      "text/plain": [
       "<matplotlib.figure.Figure at 0x7f7f38495f60>"
      ]
     },
     "metadata": {},
     "output_type": "display_data"
    }
   ],
   "source": [
    "plt.scatter(X_train, y)\n",
    "plt.scatter(X_train, y_train)\n",
    "plt.show()"
   ]
  },
  {
   "cell_type": "markdown",
   "metadata": {
    "id": "JscxndON7NeQ"
   },
   "source": [
    "## [Perceptron](https://scikit-learn.org/stable/modules/linear_model.html#perceptron)"
   ]
  },
  {
   "cell_type": "code",
   "execution_count": 94,
   "metadata": {
    "id": "_8UuJb817NeR"
   },
   "outputs": [],
   "source": [
    "X_train = df[['MedInc']].as_matrix()\n",
    "y_train = data.target"
   ]
  },
  {
   "cell_type": "code",
   "execution_count": 95,
   "metadata": {
    "id": "C0aaqxfE7NeR"
   },
   "outputs": [],
   "source": [
    "model = linear_model.PassiveAggressiveRegressor(max_iter=100, random_state=0, tol=1e-3)"
   ]
  },
  {
   "cell_type": "code",
   "execution_count": 96,
   "metadata": {
    "id": "ou1w19wz7NeS",
    "outputId": "814b3315-21d6-48e7-d67a-1ff53c33a1e5"
   },
   "outputs": [
    {
     "data": {
      "text/plain": [
       "PassiveAggressiveRegressor(C=1.0, average=False, early_stopping=False,\n",
       "                           epsilon=0.1, fit_intercept=True,\n",
       "                           loss='epsilon_insensitive', max_iter=100,\n",
       "                           n_iter_no_change=5, random_state=0, shuffle=True,\n",
       "                           tol=0.001, validation_fraction=0.1, verbose=0,\n",
       "                           warm_start=False)"
      ]
     },
     "execution_count": 96,
     "metadata": {},
     "output_type": "execute_result"
    }
   ],
   "source": [
    "model.fit(X_train, y_train)"
   ]
  },
  {
   "cell_type": "code",
   "execution_count": 97,
   "metadata": {
    "id": "cugpX92e7NeU"
   },
   "outputs": [],
   "source": [
    "y = model.predict(X_train)"
   ]
  },
  {
   "cell_type": "code",
   "execution_count": 98,
   "metadata": {
    "id": "uuJkduUV7NeU",
    "outputId": "7e9f81c1-c947-4900-e678-7fd0746aaa1b"
   },
   "outputs": [
    {
     "data": {
      "image/png": "[encoded data removed]",
      "text/plain": [
       "<matplotlib.figure.Figure at 0x7f7f38495710>"
      ]
     },
     "metadata": {},
     "output_type": "display_data"
    }
   ],
   "source": [
    "plt.scatter(X_train, y)\n",
    "plt.scatter(X_train, y_train)\n",
    "plt.show()"
   ]
  },
  {
   "cell_type": "markdown",
   "metadata": {
    "id": "QB0sH92V7NeV"
   },
   "source": [
    "## [Robustness regression](https://scikit-learn.org/stable/modules/linear_model.html#robustness-regression-outliers-and-modeling-errors)"
   ]
  },
  {
   "cell_type": "code",
   "execution_count": 99,
   "metadata": {
    "id": "MkZeujUz7NeV"
   },
   "outputs": [],
   "source": [
    "X_train = df[['MedInc']].as_matrix()\n",
    "y_train = data.target"
   ]
  },
  {
   "cell_type": "code",
   "execution_count": 100,
   "metadata": {
    "id": "AFHFteOU7NeV"
   },
   "outputs": [],
   "source": [
    "model = linear_model.RANSACRegressor()"
   ]
  },
  {
   "cell_type": "code",
   "execution_count": 101,
   "metadata": {
    "id": "rR3BbVdV7NeV",
    "outputId": "39c07187-e455-4ecf-8a8b-a2d8258359c9"
   },
   "outputs": [
    {
     "data": {
      "text/plain": [
       "RANSACRegressor(base_estimator=None, is_data_valid=None, is_model_valid=None,\n",
       "                loss='absolute_loss', max_skips=inf, max_trials=100,\n",
       "                min_samples=None, random_state=None, residual_threshold=None,\n",
       "                stop_n_inliers=inf, stop_probability=0.99, stop_score=inf)"
      ]
     },
     "execution_count": 101,
     "metadata": {},
     "output_type": "execute_result"
    }
   ],
   "source": [
    "model.fit(X_train, y_train)"
   ]
  },
  {
   "cell_type": "code",
   "execution_count": 102,
   "metadata": {
    "id": "QKTB9gzk7NeW"
   },
   "outputs": [],
   "source": [
    "y = model.predict(X_train)"
   ]
  },
  {
   "cell_type": "code",
   "execution_count": 103,
   "metadata": {
    "id": "fPb_sjP-7NeW",
    "outputId": "b22bccc3-91e8-4448-860c-c278df8d329f"
   },
   "outputs": [
    {
     "data": {
      "image/png": "[encoded data removed]",
      "text/plain": [
       "<matplotlib.figure.Figure at 0x7f7f383a2128>"
      ]
     },
     "metadata": {},
     "output_type": "display_data"
    }
   ],
   "source": [
    "plt.scatter(X_train, y)\n",
    "plt.scatter(X_train, y_train)\n",
    "plt.show()"
   ]
  },
  {
   "cell_type": "code",
   "execution_count": 104,
   "metadata": {
    "id": "Bj6Di8W-7NeW"
   },
   "outputs": [],
   "source": [
    "model = linear_model.TheilSenRegressor(random_state=42)"
   ]
  },
  {
   "cell_type": "code",
   "execution_count": 105,
   "metadata": {
    "id": "sux4tFxN7NeW",
    "outputId": "93443bb0-8f18-45de-efb8-ad4a58047178"
   },
   "outputs": [
    {
     "data": {
      "text/plain": [
       "TheilSenRegressor(copy_X=True, fit_intercept=True, max_iter=300,\n",
       "                  max_subpopulation=10000, n_jobs=None, n_subsamples=None,\n",
       "                  random_state=42, tol=0.001, verbose=False)"
      ]
     },
     "execution_count": 105,
     "metadata": {},
     "output_type": "execute_result"
    }
   ],
   "source": [
    "model.fit(X_train, y_train)"
   ]
  },
  {
   "cell_type": "code",
   "execution_count": 106,
   "metadata": {
    "id": "LFiL2bCJ7NeX"
   },
   "outputs": [],
   "source": [
    "y = model.predict(X_train)"
   ]
  },
  {
   "cell_type": "code",
   "execution_count": 107,
   "metadata": {
    "id": "hmPGaGwW7NeX",
    "outputId": "fdef952f-7d18-4895-91a2-8a5ec40693c4"
   },
   "outputs": [
    {
     "data": {
      "image/png": "[encoded data removed]",
      "text/plain": [
       "<matplotlib.figure.Figure at 0x7f7f383b6198>"
      ]
     },
     "metadata": {},
     "output_type": "display_data"
    }
   ],
   "source": [
    "plt.scatter(X_train, y)\n",
    "plt.scatter(X_train, y_train)\n",
    "plt.show()"
   ]
  },
  {
   "cell_type": "code",
   "execution_count": 108,
   "metadata": {
    "id": "MGZ34Y_g7NeX"
   },
   "outputs": [],
   "source": [
    "model = linear_model.HuberRegressor()"
   ]
  },
  {
   "cell_type": "code",
   "execution_count": 109,
   "metadata": {
    "id": "G4JFPafE7NeX",
    "outputId": "c00414f0-edb4-464e-f3d1-09a40568c6d0"
   },
   "outputs": [
    {
     "data": {
      "text/plain": [
       "HuberRegressor(alpha=0.0001, epsilon=1.35, fit_intercept=True, max_iter=100,\n",
       "               tol=1e-05, warm_start=False)"
      ]
     },
     "execution_count": 109,
     "metadata": {},
     "output_type": "execute_result"
    }
   ],
   "source": [
    "model.fit(X_train, y_train)"
   ]
  },
  {
   "cell_type": "code",
   "execution_count": 110,
   "metadata": {
    "id": "nq9QzN8k7NeY"
   },
   "outputs": [],
   "source": [
    "y = model.predict(X_train)"
   ]
  },
  {
   "cell_type": "code",
   "execution_count": 111,
   "metadata": {
    "id": "Eb8GjsqS7NeY",
    "outputId": "0dc14ce8-cd9d-4801-bc86-47b698cf2977"
   },
   "outputs": [
    {
     "data": {
      "image/png": "[encoded data removed]",
      "text/plain": [
       "<matplotlib.figure.Figure at 0x7f7f3839cda0>"
      ]
     },
     "metadata": {},
     "output_type": "display_data"
    }
   ],
   "source": [
    "plt.scatter(X_train, y)\n",
    "plt.scatter(X_train, y_train)\n",
    "plt.show()"
   ]
  },
  {
   "cell_type": "markdown",
   "metadata": {
    "id": "ikz5xoL17NeZ"
   },
   "source": [
    "## [Polynomial regression](https://scikit-learn.org/stable/modules/linear_model.html#polynomial-regression-extending-linear-models-with-basis-functions)"
   ]
  },
  {
   "cell_type": "code",
   "execution_count": null,
   "metadata": {
    "id": "S3neLtAH7NeZ"
   },
   "outputs": [],
   "source": []
  }
 ],
 "metadata": {
  "colab": {
   "collapsed_sections": [
    "UYuQFmGY7Ndu",
    "5Ugd5amS7Nd1",
    "weu7I-FH7Nd3",
    "YDLcjVSO7Nd3",
    "0oQ5QLRz7Nd7",
    "hNo5EEsL7Nd7",
    "ede5OqT47Nd_",
    "os5z8lhv7NeG",
    "USzReHkt7NeK",
    "CB2EzQeJ7NeN",
    "JscxndON7NeQ",
    "QB0sH92V7NeV",
    "ikz5xoL17NeZ"
   ],
   "name": "linear_models_regression.ipynb",
   "provenance": []
  },
  "kernelspec": {
   "display_name": "Python 3",
   "language": "python",
   "name": "python3"
  },
  "language_info": {
   "codemirror_mode": {
    "name": "ipython",
    "version": 3
   },
   "file_extension": ".py",
   "mimetype": "text/x-python",
   "name": "python",
   "nbconvert_exporter": "python",
   "pygments_lexer": "ipython3",
   "version": "3.5.2"
  }
 },
 "nbformat": 4,
 "nbformat_minor": 1
}
